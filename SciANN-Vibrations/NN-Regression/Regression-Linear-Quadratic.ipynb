{
 "cells": [
  {
   "cell_type": "markdown",
   "metadata": {
    "colab": {
     "base_uri": "https://localhost:8080/",
     "height": 853
    },
    "colab_type": "code",
    "id": "hlWZIGHrCNcS",
    "outputId": "a87ee008-4f62-49c2-e893-6d1acc423499"
   },
   "source": [
    "# SciANN-Regression.py\n",
    "\n",
    "An illustrain to use SciANN simple linear and quadratic curve-fitting.\n",
    "\n",
    "For additional details, please check our paper at: https://arxiv.org/abs/2005.08803 \n",
    "    \n",
    "Created by Ehsan Haghighat on 5/01/20."
   ]
  },
  {
   "cell_type": "code",
   "execution_count": 1,
   "metadata": {},
   "outputs": [],
   "source": [
    "# You need to have tensorflow, keras, and sciann installed in your system. \n",
    "# On google cloud, uncomment next line to install sciann. \n",
    "\n",
    "# !pip install sciann "
   ]
  },
  {
   "cell_type": "code",
   "execution_count": 2,
   "metadata": {
    "colab": {
     "base_uri": "https://localhost:8080/",
     "height": 334
    },
    "colab_type": "code",
    "id": "CM0Qrmd5C8t9",
    "outputId": "3393ef51-7980-4a54-9154-61c4330fc042"
   },
   "outputs": [],
   "source": [
    "import numpy as np \n",
    "import matplotlib.pyplot as plt \n",
    "import sciann as sn "
   ]
  },
  {
   "cell_type": "markdown",
   "metadata": {
    "colab_type": "text",
    "id": "aNdSan4UCYVL"
   },
   "source": [
    "# SciANN for Linear Regression  "
   ]
  },
  {
   "cell_type": "markdown",
   "metadata": {
    "colab_type": "text",
    "id": "IPzsUX-wCgKS"
   },
   "source": [
    "The objective is to fit NN on data generated from \n",
    "$$\n",
    "y = 2x+1+\\epsilon, \\quad \\epsilon \\sim N(0,\\sigma^2) = \\sigma N(0,1)\n",
    "$$"
   ]
  },
  {
   "cell_type": "code",
   "execution_count": 3,
   "metadata": {
    "colab": {
     "base_uri": "https://localhost:8080/",
     "height": 198
    },
    "colab_type": "code",
    "id": "LAmiys7JCqbZ",
    "outputId": "0847c0b4-5e39-4193-efcd-94de9e4fbb75"
   },
   "outputs": [],
   "source": [
    "x_data = np.linspace(-1, 1, 1000)\n",
    "y_data = 2*x_data + 1\n",
    "y_noise = 0.2*np.std(y_data)*np.random.randn(1000)\n",
    "\n",
    "plt.scatter(x_data, y_data + y_noise)"
   ]
  },
  {
   "cell_type": "markdown",
   "metadata": {
    "colab_type": "text",
    "id": "v4mzOxSM_15W"
   },
   "source": [
    "## Step 1\n",
    "The first step is to define the approxmation using neural networks. The simplest neural network is a linear regression model, i.e., a network \n",
    "without any hidden layers:  "
   ]
  },
  {
   "cell_type": "code",
   "execution_count": 4,
   "metadata": {
    "colab": {},
    "colab_type": "code",
    "id": "65gVhIa6E2Z1"
   },
   "outputs": [],
   "source": [
    "x = sn.Variable('x')\n",
    "o = sn.Field('y')\n",
    "y = sn.Functional(o, x)"
   ]
  },
  {
   "cell_type": "markdown",
   "metadata": {
    "colab_type": "text",
    "id": "bo1jx_bCAPKC"
   },
   "source": [
    "You can check initial values of network weights and biasses as:"
   ]
  },
  {
   "cell_type": "code",
   "execution_count": 5,
   "metadata": {
    "colab": {
     "base_uri": "https://localhost:8080/",
     "height": 34
    },
    "colab_type": "code",
    "id": "YgCxFkRkGTox",
    "outputId": "afa45961-ef71-4701-de92-6edb0a3cbcc7"
   },
   "outputs": [],
   "source": [
    "y.get_weights()"
   ]
  },
  {
   "cell_type": "markdown",
   "metadata": {
    "colab_type": "text",
    "id": "j5fjEXsmARO7"
   },
   "source": [
    "You can eval a functional using the `eval' function:"
   ]
  },
  {
   "cell_type": "code",
   "execution_count": 6,
   "metadata": {
    "colab": {
     "base_uri": "https://localhost:8080/",
     "height": 282
    },
    "colab_type": "code",
    "id": "XctCHB8uGdQM",
    "outputId": "87fd0891-a981-4016-ae0e-f115fbd71a2f"
   },
   "outputs": [],
   "source": [
    "y_pred = y.eval(x_data)\n",
    "\n",
    "plt.scatter(x_data, y_data + y_noise)\n",
    "plt.plot(x_data, y_pred, 'r')"
   ]
  },
  {
   "cell_type": "markdown",
   "metadata": {
    "colab_type": "text",
    "id": "h3b9w73JAcSe"
   },
   "source": [
    "## Step 2\n",
    "The second step is the define the optimization model, i.e., main inputs of the network and targets (objtives). This is done using SciModel interface:"
   ]
  },
  {
   "cell_type": "code",
   "execution_count": 7,
   "metadata": {
    "colab": {},
    "colab_type": "code",
    "id": "Ywjbe2q8Gz18"
   },
   "outputs": [],
   "source": [
    "d1 = sn.Data(y)\n",
    "m = sn.SciModel(x, d1)"
   ]
  },
  {
   "cell_type": "markdown",
   "metadata": {
    "colab_type": "text",
    "id": "OziRwhkvA3bT"
   },
   "source": [
    "Once the model is defined, we can use the `train' function to identify the parameters of the network: "
   ]
  },
  {
   "cell_type": "code",
   "execution_count": 8,
   "metadata": {
    "colab": {
     "base_uri": "https://localhost:8080/",
     "height": 1000
    },
    "colab_type": "code",
    "id": "rjOmPUZpHZe6",
    "outputId": "5c9b72d2-5fc8-4104-ddc0-2b30c7caa1b9"
   },
   "outputs": [],
   "source": [
    "m.train(x_data, y_data + y_noise, learning_rate=0.001, epochs=1000)"
   ]
  },
  {
   "cell_type": "markdown",
   "metadata": {
    "colab_type": "text",
    "id": "Q6E_eX6SBFR6"
   },
   "source": [
    "We can now re-evaluate the network as:"
   ]
  },
  {
   "cell_type": "code",
   "execution_count": 9,
   "metadata": {
    "colab": {
     "base_uri": "https://localhost:8080/",
     "height": 282
    },
    "colab_type": "code",
    "id": "Iwg2exd6IRK0",
    "outputId": "320589f3-2527-45c4-9279-7d30bf47c715"
   },
   "outputs": [],
   "source": [
    "y_pred = y.eval(x_data)\n",
    "\n",
    "fig, ax = plt.subplots(1,1,figsize=(8,3))\n",
    "ax.plot(x_data, y_data + y_noise, '.', label='Noisy measurement')\n",
    "ax.plot(x_data, y_data, '--k', lw=4, label='True data')\n",
    "ax.plot(x_data, y_pred, 'r', lw=1, label='NN Predictions')\n",
    "ax.set_xlabel('$x$')\n",
    "ax.set_ylabel('$y$')\n",
    "ax.legend(loc='upper right', bbox_to_anchor=(1.5, 1.0), framealpha=0.)\n",
    "plt.subplots_adjust(0.25, 0.15, 0.75, 0.9)\n",
    "\n",
    "plt.savefig('linear-regression.pdf', dpi=600)\n"
   ]
  },
  {
   "cell_type": "markdown",
   "metadata": {
    "colab_type": "text",
    "id": "KCOW03v6BKP4"
   },
   "source": [
    "The final values of weights and biases are obtained: "
   ]
  },
  {
   "cell_type": "code",
   "execution_count": 10,
   "metadata": {
    "colab": {
     "base_uri": "https://localhost:8080/",
     "height": 34
    },
    "colab_type": "code",
    "id": "S9wse4PgIWyb",
    "outputId": "5cefe9d8-f6c3-4c22-cae3-6872831270d5"
   },
   "outputs": [],
   "source": [
    "y.get_weights()"
   ]
  },
  {
   "cell_type": "markdown",
   "metadata": {
    "colab_type": "text",
    "id": "egW3zY3JBOI_"
   },
   "source": [
    "As you find, these are very close to their true values for data. "
   ]
  },
  {
   "cell_type": "markdown",
   "metadata": {
    "colab_type": "text",
    "id": "5VXcTsVKJOki"
   },
   "source": [
    "# SciANN for Quadratic Regression \n",
    "\n",
    "As the second example, let us assume that we have a the following dataset: \n",
    "$$\n",
    "y = 2x^2 -x + 1 + \\epsilon, \\quad \\epsilon \\sim N(0, \\sigma^2)\n",
    "$$\n",
    "\n",
    "and we wish to perform a quadratic regression using neural networks. "
   ]
  },
  {
   "cell_type": "code",
   "execution_count": 11,
   "metadata": {
    "colab": {
     "base_uri": "https://localhost:8080/",
     "height": 282
    },
    "colab_type": "code",
    "id": "KIizvQppJbRv",
    "outputId": "9d7cd8a6-d157-480a-edbc-4e0541178d35"
   },
   "outputs": [],
   "source": [
    "x_data = np.linspace(-1, 1, 1000)\n",
    "y_data = 2*x_data**2 - x_data + 1 \n",
    "y_noise = 0.2*np.std(y_data)*np.random.randn(1000)\n",
    "plt.scatter(x_data, y_data + y_noise)"
   ]
  },
  {
   "cell_type": "markdown",
   "metadata": {
    "colab_type": "text",
    "id": "IMhqGSRZCC7Z"
   },
   "source": [
    "## Step 1\n",
    "\n",
    "Again, we first need to define the approximation space, i.e., the quadratic model: "
   ]
  },
  {
   "cell_type": "code",
   "execution_count": 12,
   "metadata": {
    "colab": {},
    "colab_type": "code",
    "id": "Gi2P57slJnmJ"
   },
   "outputs": [],
   "source": [
    "x = sn.Variable('x')\n",
    "x2 = sn.Variable('x2')\n",
    "y = sn.Functional('y', [x, x2])"
   ]
  },
  {
   "cell_type": "markdown",
   "metadata": {
    "colab_type": "text",
    "id": "oczOejBTCXpH"
   },
   "source": [
    "Initial state of the approximation can be evaluated as:"
   ]
  },
  {
   "cell_type": "code",
   "execution_count": 13,
   "metadata": {
    "colab": {
     "base_uri": "https://localhost:8080/",
     "height": 282
    },
    "colab_type": "code",
    "id": "QQpbzMoJKDxZ",
    "outputId": "1f697bfe-bc37-4942-bd9d-db1c53921b93"
   },
   "outputs": [],
   "source": [
    "y_pred = y.eval([x_data, x_data**2])\n",
    "\n",
    "plt.scatter(x_data, y_data + y_noise)\n",
    "plt.plot(x_data, y_pred, 'r')"
   ]
  },
  {
   "cell_type": "markdown",
   "metadata": {
    "colab_type": "text",
    "id": "ym-mDW49Cdne"
   },
   "source": [
    "## Step 2\n",
    "\n",
    "Defining the optimization model and training the network:"
   ]
  },
  {
   "cell_type": "code",
   "execution_count": 14,
   "metadata": {
    "colab": {
     "base_uri": "https://localhost:8080/",
     "height": 1000
    },
    "colab_type": "code",
    "id": "n2SKMAdMJ1SS",
    "outputId": "a54c9250-b70a-48c4-9255-cc50799d5ac4"
   },
   "outputs": [],
   "source": [
    "d1 = sn.Data(y)\n",
    "m = sn.SciModel([x, x2], d1)\n",
    "m.train([x_data, x_data**2], y_data + y_noise, learning_rate=0.001, epochs=1000)"
   ]
  },
  {
   "cell_type": "markdown",
   "metadata": {
    "colab_type": "text",
    "id": "PXLwtjKDCkUQ"
   },
   "source": [
    "We can finally evaluate the network as: \n"
   ]
  },
  {
   "cell_type": "code",
   "execution_count": 15,
   "metadata": {
    "colab": {
     "base_uri": "https://localhost:8080/",
     "height": 282
    },
    "colab_type": "code",
    "id": "ByB_fSIfKT7d",
    "outputId": "35cc2529-e3b4-45d4-8fd5-e3141c587c51"
   },
   "outputs": [],
   "source": [
    "y_pred = y.eval([x_data, x_data**2])\n",
    "\n",
    "fig, ax = plt.subplots(1,1,figsize=(8,3))\n",
    "ax.plot(x_data, y_data + y_noise, '.', label='Noisy measurement')\n",
    "ax.plot(x_data, y_data, '--k', lw=4, label='True data')\n",
    "ax.plot(x_data, y_pred, 'r', lw=1, label='NN Predictions')\n",
    "ax.set_xlabel('$x$')\n",
    "ax.set_ylabel('$y$')\n",
    "ax.legend(loc='upper right', bbox_to_anchor=(1.5, 1.0), framealpha=0.)\n",
    "plt.subplots_adjust(0.25, 0.15, 0.75, 0.9)\n",
    "\n",
    "plt.savefig('quadratic-regression.pdf', dpi=600)\n"
   ]
  },
  {
   "cell_type": "markdown",
   "metadata": {
    "colab_type": "text",
    "id": "CYkXljMQCo45"
   },
   "source": [
    "The weights and biasses of the network are obtained as: "
   ]
  },
  {
   "cell_type": "code",
   "execution_count": 16,
   "metadata": {
    "colab": {
     "base_uri": "https://localhost:8080/",
     "height": 51
    },
    "colab_type": "code",
    "id": "1fouzGf-KW92",
    "outputId": "32ec5bb0-5b1b-49e3-9c34-2a93ce95f5e1"
   },
   "outputs": [],
   "source": [
    "y.get_weights()"
   ]
  },
  {
   "cell_type": "code",
   "execution_count": null,
   "metadata": {
    "colab": {},
    "colab_type": "code",
    "id": "CHowRTS-KZj2"
   },
   "outputs": [],
   "source": []
  }
 ],
 "metadata": {
  "colab": {
   "collapsed_sections": [],
   "name": "lr1.ipynb",
   "provenance": [],
   "toc_visible": true
  },
  "kernelspec": {
   "display_name": "Python 3",
   "language": "python",
   "name": "python3"
  },
  "language_info": {
   "codemirror_mode": {
    "name": "ipython",
    "version": 3
   },
   "file_extension": ".py",
   "mimetype": "text/x-python",
   "name": "python",
   "nbconvert_exporter": "python",
   "pygments_lexer": "ipython3",
   "version": "3.7.7"
  }
 },
 "nbformat": 4,
 "nbformat_minor": 1
}